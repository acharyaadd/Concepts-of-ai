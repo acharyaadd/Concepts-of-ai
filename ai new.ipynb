{
  "nbformat": 4,
  "nbformat_minor": 0,
  "metadata": {
    "colab": {
      "provenance": []
    },
    "kernelspec": {
      "name": "python3",
      "display_name": "Python 3"
    },
    "language_info": {
      "name": "python"
    }
  },
  "cells": [
    {
      "cell_type": "code",
      "execution_count": 20,
      "metadata": {
        "id": "8_0SBdd4wDub"
      },
      "outputs": [],
      "source": [
        "import numpy as np\n"
      ]
    },
    {
      "cell_type": "code",
      "source": [
        "x = np.empty((2,2))\n",
        "x"
      ],
      "metadata": {
        "colab": {
          "base_uri": "https://localhost:8080/"
        },
        "id": "tfldC60GwFFl",
        "outputId": "4f82ce53-e980-46bf-9368-d630b97e3ea7"
      },
      "execution_count": 2,
      "outputs": [
        {
          "output_type": "execute_result",
          "data": {
            "text/plain": [
              "array([[4.80999553e-310, 0.00000000e+000],\n",
              "       [2.90435030e-144, 6.95045478e-310]])"
            ]
          },
          "metadata": {},
          "execution_count": 2
        }
      ]
    },
    {
      "cell_type": "code",
      "source": [
        "x = np.ones((4,2))\n",
        "x"
      ],
      "metadata": {
        "colab": {
          "base_uri": "https://localhost:8080/"
        },
        "id": "-lYYitliwMcS",
        "outputId": "8caa9202-ecda-492a-f101-6244b33b395a"
      },
      "execution_count": 3,
      "outputs": [
        {
          "output_type": "execute_result",
          "data": {
            "text/plain": [
              "array([[1., 1.],\n",
              "       [1., 1.],\n",
              "       [1., 1.],\n",
              "       [1., 1.]])"
            ]
          },
          "metadata": {},
          "execution_count": 3
        }
      ]
    },
    {
      "cell_type": "code",
      "source": [
        "x=np.full((4,3),3)"
      ],
      "metadata": {
        "id": "gMUQKrHAwTrp"
      },
      "execution_count": 4,
      "outputs": []
    },
    {
      "cell_type": "code",
      "source": [
        "p=np.arange(6).reshape(2,3)\n",
        "a=np.zeros_like(p)\n",
        "a"
      ],
      "metadata": {
        "colab": {
          "base_uri": "https://localhost:8080/"
        },
        "id": "q4bOsLD7wYVU",
        "outputId": "44f8f85d-b31c-46d1-dd47-bfbacde7df87"
      },
      "execution_count": 5,
      "outputs": [
        {
          "output_type": "execute_result",
          "data": {
            "text/plain": [
              "array([[0, 0, 0],\n",
              "       [0, 0, 0]])"
            ]
          },
          "metadata": {},
          "execution_count": 5
        }
      ]
    },
    {
      "cell_type": "code",
      "source": [
        "p=np.arange(8).reshape(2,4)\n",
        "x=np.ones_like(p)\n",
        "x"
      ],
      "metadata": {
        "colab": {
          "base_uri": "https://localhost:8080/"
        },
        "id": "yYganC8KwqMh",
        "outputId": "da4f3cfb-4958-4ab5-8aba-79fe1f351b73"
      },
      "execution_count": 6,
      "outputs": [
        {
          "output_type": "execute_result",
          "data": {
            "text/plain": [
              "array([[1, 1, 1, 1],\n",
              "       [1, 1, 1, 1]])"
            ]
          },
          "metadata": {},
          "execution_count": 6
        }
      ]
    },
    {
      "cell_type": "code",
      "source": [
        "new_list=[1,2,3,4]\n",
        "K=np.array(new_list)\n",
        "K"
      ],
      "metadata": {
        "colab": {
          "base_uri": "https://localhost:8080/"
        },
        "id": "EjBcEKHHw1Ao",
        "outputId": "e2c1b28c-7f65-46ef-a0f4-07b25634dfc0"
      },
      "execution_count": 8,
      "outputs": [
        {
          "output_type": "execute_result",
          "data": {
            "text/plain": [
              "array([1, 2, 3, 4])"
            ]
          },
          "metadata": {},
          "execution_count": 8
        }
      ]
    },
    {
      "cell_type": "code",
      "source": [
        "b=np.arange(10,50)\n",
        "b"
      ],
      "metadata": {
        "colab": {
          "base_uri": "https://localhost:8080/"
        },
        "id": "0jwhkLxiw9kO",
        "outputId": "2f58a3a8-351f-4f9f-a065-ee1905d48616"
      },
      "execution_count": 9,
      "outputs": [
        {
          "output_type": "execute_result",
          "data": {
            "text/plain": [
              "array([10, 11, 12, 13, 14, 15, 16, 17, 18, 19, 20, 21, 22, 23, 24, 25, 26,\n",
              "       27, 28, 29, 30, 31, 32, 33, 34, 35, 36, 37, 38, 39, 40, 41, 42, 43,\n",
              "       44, 45, 46, 47, 48, 49])"
            ]
          },
          "metadata": {},
          "execution_count": 9
        }
      ]
    },
    {
      "cell_type": "code",
      "source": [
        "b=np.arange(0,9).reshape(3,3)\n",
        "b"
      ],
      "metadata": {
        "colab": {
          "base_uri": "https://localhost:8080/"
        },
        "id": "4NJHoVP6xEp-",
        "outputId": "f917d047-4e57-4c22-fa3d-cf255a4ece78"
      },
      "execution_count": 10,
      "outputs": [
        {
          "output_type": "execute_result",
          "data": {
            "text/plain": [
              "array([[0, 1, 2],\n",
              "       [3, 4, 5],\n",
              "       [6, 7, 8]])"
            ]
          },
          "metadata": {},
          "execution_count": 10
        }
      ]
    },
    {
      "cell_type": "code",
      "source": [
        "b=np.eye(3)\n",
        "b"
      ],
      "metadata": {
        "colab": {
          "base_uri": "https://localhost:8080/"
        },
        "id": "_liYW7f8xLSU",
        "outputId": "fb82cb51-f801-4083-b38c-0d9312123a6e"
      },
      "execution_count": 11,
      "outputs": [
        {
          "output_type": "execute_result",
          "data": {
            "text/plain": [
              "array([[1., 0., 0.],\n",
              "       [0., 1., 0.],\n",
              "       [0., 0., 1.]])"
            ]
          },
          "metadata": {},
          "execution_count": 11
        }
      ]
    },
    {
      "cell_type": "code",
      "source": [
        "x = np.random.random(30)\n",
        "mean = x.mean()\n",
        "\n",
        "print(\"array given: \", x)\n",
        "print(\"Mean  : \", mean)"
      ],
      "metadata": {
        "colab": {
          "base_uri": "https://localhost:8080/"
        },
        "id": "Lh28QCn4xPg4",
        "outputId": "1af98719-bb54-4601-832b-cc9d430733f2"
      },
      "execution_count": 21,
      "outputs": [
        {
          "output_type": "stream",
          "name": "stdout",
          "text": [
            "array given:  [0.12262054 0.0210297  0.46282705 0.70633054 0.78558176 0.30177117\n",
            " 0.37554117 0.95832471 0.82311485 0.32177844 0.16866981 0.93444289\n",
            " 0.85794062 0.59899547 0.07649762 0.93910481 0.78400786 0.309088\n",
            " 0.62120494 0.29930206 0.87224955 0.70338835 0.44650292 0.67679526\n",
            " 0.64545454 0.30878872 0.60299671 0.40633694 0.58735154 0.85670702]\n",
            "Mean  :  0.5524915190603378\n"
          ]
        }
      ]
    },
    {
      "cell_type": "code",
      "source": [
        "b=np.random.random((10,10))\n",
        "min=b.min()\n",
        "max=b.max()\n",
        "print(\"Array: \", b)\n",
        "print(\"Min:\", min)\n",
        "print(\"Max:\", max)"
      ],
      "metadata": {
        "colab": {
          "base_uri": "https://localhost:8080/"
        },
        "id": "6mKoymTixcSr",
        "outputId": "fd0653c3-89cf-4c11-d11c-9eb59acd0221"
      },
      "execution_count": 22,
      "outputs": [
        {
          "output_type": "stream",
          "name": "stdout",
          "text": [
            "Array:  [[0.68375613 0.35290788 0.47697783 0.89361447 0.67720571 0.90057415\n",
            "  0.82930335 0.41088837 0.5521172  0.02960759]\n",
            " [0.51449906 0.12130846 0.09684859 0.02410436 0.33130057 0.89026558\n",
            "  0.98087229 0.99211026 0.88803923 0.92786551]\n",
            " [0.91637441 0.26063056 0.14160473 0.02235332 0.71207738 0.01279746\n",
            "  0.62835815 0.012999   0.21151006 0.31045696]\n",
            " [0.86582549 0.1217277  0.34296526 0.68553286 0.42841714 0.53990729\n",
            "  0.26682739 0.16145212 0.89343123 0.21599632]\n",
            " [0.08725661 0.59331384 0.12505718 0.30494413 0.60400406 0.47120886\n",
            "  0.47800706 0.57427743 0.26395225 0.54748672]\n",
            " [0.32058125 0.97062743 0.69943196 0.10894211 0.58928846 0.3445818\n",
            "  0.18723843 0.79218639 0.72207638 0.43187937]\n",
            " [0.65938805 0.37003617 0.06346748 0.58059743 0.01976501 0.69078399\n",
            "  0.90875664 0.77374664 0.71104977 0.8061166 ]\n",
            " [0.99370185 0.36078381 0.17755809 0.79925541 0.52694069 0.89053485\n",
            "  0.21008486 0.73328116 0.99855619 0.52501246]\n",
            " [0.3159216  0.06515351 0.18626863 0.22710065 0.47644146 0.61584379\n",
            "  0.22083795 0.15658073 0.14506576 0.48414352]\n",
            " [0.79019447 0.61409784 0.62516366 0.02706515 0.17140731 0.8206989\n",
            "  0.91701333 0.47818597 0.70062531 0.61094487]]\n",
            "Min: 0.012797462756747202\n",
            "Max: 0.9985561858406359\n"
          ]
        }
      ]
    },
    {
      "cell_type": "code",
      "source": [
        "b=np.zeros(10)\n",
        "b[4]=1\n",
        "print(\"Updated :\", b)"
      ],
      "metadata": {
        "colab": {
          "base_uri": "https://localhost:8080/"
        },
        "id": "pyfWRxv4x__N",
        "outputId": "486c3a05-7dfa-401b-a70f-ad68752a1ba7"
      },
      "execution_count": 23,
      "outputs": [
        {
          "output_type": "stream",
          "name": "stdout",
          "text": [
            "Updated : [0. 0. 0. 0. 1. 0. 0. 0. 0. 0.]\n"
          ]
        }
      ]
    },
    {
      "cell_type": "code",
      "source": [
        "b=np.array([1,2,0,0,4,0])\n",
        "rev=b[::-1]\n",
        "print(\"Original: \", b)\n",
        "print(\"reversed: \", rev)"
      ],
      "metadata": {
        "colab": {
          "base_uri": "https://localhost:8080/"
        },
        "id": "is8iXP05yXO0",
        "outputId": "87ea4ba5-46ab-4803-b3ef-b3d6ca5ab253"
      },
      "execution_count": 24,
      "outputs": [
        {
          "output_type": "stream",
          "name": "stdout",
          "text": [
            "Original:  [1 2 0 0 4 0]\n",
            "reversed:  [0 4 0 0 2 1]\n"
          ]
        }
      ]
    },
    {
      "cell_type": "code",
      "source": [
        "b=np.zeros((5,5),dtype=int)\n",
        "b[0,:]=1 #top\n",
        "b[-1,:]=1 #bottom\n",
        "b[:,0]=1 #left\n",
        "b[:,-1]=1 #right\n",
        "print(\"1 on border and 0 inside : \",b)\n"
      ],
      "metadata": {
        "colab": {
          "base_uri": "https://localhost:8080/"
        },
        "id": "ZBYwbLx6yiVs",
        "outputId": "d1a5c2cd-17ae-4551-8201-244ff65653e9"
      },
      "execution_count": 25,
      "outputs": [
        {
          "output_type": "stream",
          "name": "stdout",
          "text": [
            "1 on border and 0 inside :  [[1 1 1 1 1]\n",
            " [1 0 0 0 1]\n",
            " [1 0 0 0 1]\n",
            " [1 0 0 0 1]\n",
            " [1 1 1 1 1]]\n"
          ]
        }
      ]
    },
    {
      "cell_type": "code",
      "source": [
        "b=np.zeros((8,8))\n",
        "b[1::2,::2]=1\n",
        "b[::2,1::2]=1\n",
        "b"
      ],
      "metadata": {
        "colab": {
          "base_uri": "https://localhost:8080/"
        },
        "id": "3ZNkrHHEzJDW",
        "outputId": "4be561e7-fd75-4b34-b53b-1d6e4f27bb3b"
      },
      "execution_count": 26,
      "outputs": [
        {
          "output_type": "execute_result",
          "data": {
            "text/plain": [
              "array([[0., 1., 0., 1., 0., 1., 0., 1.],\n",
              "       [1., 0., 1., 0., 1., 0., 1., 0.],\n",
              "       [0., 1., 0., 1., 0., 1., 0., 1.],\n",
              "       [1., 0., 1., 0., 1., 0., 1., 0.],\n",
              "       [0., 1., 0., 1., 0., 1., 0., 1.],\n",
              "       [1., 0., 1., 0., 1., 0., 1., 0.],\n",
              "       [0., 1., 0., 1., 0., 1., 0., 1.],\n",
              "       [1., 0., 1., 0., 1., 0., 1., 0.]])"
            ]
          },
          "metadata": {},
          "execution_count": 26
        }
      ]
    },
    {
      "cell_type": "code",
      "source": [
        "x=np.array([[1,2],[3,5]])\n",
        "y=np.array([[5,6],[7,8]])\n",
        "x3 = np.array([9,10])\n",
        "y3 = np.array([11,12])\n",
        "print(\"x: \\n\",x)\n",
        "print(\"y: \\n\",y)\n",
        "add=x+y\n",
        "add3=x3+y3\n",
        "print(\"Adding x+y: \\n\",add)\n",
        "print(\"x3: \\n\",x3)\n",
        "print(\"y3: \\n\",y3)\n",
        "print(\"adding x3+y3: \",add3)"
      ],
      "metadata": {
        "colab": {
          "base_uri": "https://localhost:8080/"
        },
        "id": "CTdAbSqczWnq",
        "outputId": "b003709e-a57c-42f9-841a-6e646d105201"
      },
      "execution_count": 28,
      "outputs": [
        {
          "output_type": "stream",
          "name": "stdout",
          "text": [
            "x: \n",
            " [[1 2]\n",
            " [3 5]]\n",
            "y: \n",
            " [[5 6]\n",
            " [7 8]]\n",
            "Adding x+y: \n",
            " [[ 6  8]\n",
            " [10 13]]\n",
            "x3: \n",
            " [ 9 10]\n",
            "y3: \n",
            " [11 12]\n",
            "adding x3+y3:  [20 22]\n"
          ]
        }
      ]
    },
    {
      "cell_type": "code",
      "source": [
        "sub=x-y\n",
        "sub3=x3-y3\n",
        "print(\"subtracting y from x: \",sub)\n",
        "print(\"subtracting y3 from x3: \",sub3)"
      ],
      "metadata": {
        "colab": {
          "base_uri": "https://localhost:8080/"
        },
        "id": "S8a4TMUbzwLZ",
        "outputId": "5831a176-b51d-4780-f414-3b442ed638c8"
      },
      "execution_count": 29,
      "outputs": [
        {
          "output_type": "stream",
          "name": "stdout",
          "text": [
            "subtracting y from x:  [[-4 -4]\n",
            " [-4 -3]]\n",
            "subtracting y3 from x3:  [-2 -2]\n"
          ]
        }
      ]
    },
    {
      "cell_type": "code",
      "source": [
        "mul_x=x*2\n",
        "mul_x\n",
        "mul_y=y*2\n",
        "mul_y\n",
        "mul_x3=x3*2\n",
        "mul_x3\n",
        "mul_y3=y3*2\n",
        "mul_y3"
      ],
      "metadata": {
        "colab": {
          "base_uri": "https://localhost:8080/"
        },
        "id": "aDlzex_Yz-Hr",
        "outputId": "7da6898c-2a91-4ed6-9f9f-d94bcdb1cef4"
      },
      "execution_count": 30,
      "outputs": [
        {
          "output_type": "execute_result",
          "data": {
            "text/plain": [
              "array([22, 24])"
            ]
          },
          "metadata": {},
          "execution_count": 30
        }
      ]
    },
    {
      "cell_type": "code",
      "source": [
        "sq_x=np.square(x)\n",
        "print(\"squaring x: \\n\",sq_x )\n",
        "sq_y=np.square(y)\n",
        "print(\"squaring y: \\n\",sq_y )\n",
        "sq_x3=np.square(x3)\n",
        "print(\"squaring x3: \\n\",sq_x3 )\n",
        "sq_y3=np.square(y3)\n",
        "print(\"squaring y3: \\n\",sq_y3 )"
      ],
      "metadata": {
        "colab": {
          "base_uri": "https://localhost:8080/"
        },
        "id": "45zvDwa60Vfc",
        "outputId": "a2f69a89-2df4-4f07-e681-45bbcd32c661"
      },
      "execution_count": 31,
      "outputs": [
        {
          "output_type": "stream",
          "name": "stdout",
          "text": [
            "squaring x: \n",
            " [[ 1  4]\n",
            " [ 9 25]]\n",
            "squaring y: \n",
            " [[25 36]\n",
            " [49 64]]\n",
            "squaring x3: \n",
            " [ 81 100]\n",
            "squaring y3: \n",
            " [121 144]\n"
          ]
        }
      ]
    },
    {
      "cell_type": "code",
      "source": [
        "result = np.dot(x3, y3)\n",
        "result\n",
        "result_1 = np.dot(x, x3)\n",
        "result_1\n",
        "result_2 = np.dot(x, y)\n",
        "result_2\n"
      ],
      "metadata": {
        "colab": {
          "base_uri": "https://localhost:8080/"
        },
        "id": "CHiU5ZKs0igW",
        "outputId": "fdfbdaad-ed03-4c39-fb56-a0edbbc4a83e"
      },
      "execution_count": 32,
      "outputs": [
        {
          "output_type": "execute_result",
          "data": {
            "text/plain": [
              "array([[19, 22],\n",
              "       [50, 58]])"
            ]
          },
          "metadata": {},
          "execution_count": 32
        }
      ]
    },
    {
      "cell_type": "code",
      "source": [
        "a=np.concatenate((x,y),axis=1)\n",
        "print(a)\n",
        "a=np.vstack((x3,y3))\n",
        "print(a)"
      ],
      "metadata": {
        "colab": {
          "base_uri": "https://localhost:8080/"
        },
        "id": "j_OdRZ8F1RUN",
        "outputId": "0461a1c1-6c50-4a6e-f02a-cc05c5efc2b7"
      },
      "execution_count": 33,
      "outputs": [
        {
          "output_type": "stream",
          "name": "stdout",
          "text": [
            "[[1 2 5 6]\n",
            " [3 5 7 8]]\n",
            "[[ 9 10]\n",
            " [11 12]]\n"
          ]
        }
      ]
    },
    {
      "cell_type": "code",
      "source": [
        "result = np.concatenate((x, x3))\n",
        "print(\"Concatenation result:\\n\", result)"
      ],
      "metadata": {
        "colab": {
          "base_uri": "https://localhost:8080/",
          "height": 159
        },
        "id": "QL9d7k4t1scY",
        "outputId": "99d92a9f-1cff-4d00-8338-660d2b6a5df9"
      },
      "execution_count": 35,
      "outputs": [
        {
          "output_type": "error",
          "ename": "ValueError",
          "evalue": "all the input arrays must have same number of dimensions, but the array at index 0 has 2 dimension(s) and the array at index 1 has 1 dimension(s)",
          "traceback": [
            "\u001b[0;31m---------------------------------------------------------------------------\u001b[0m",
            "\u001b[0;31mValueError\u001b[0m                                Traceback (most recent call last)",
            "\u001b[0;32m<ipython-input-35-969549a6243e>\u001b[0m in \u001b[0;36m<cell line: 1>\u001b[0;34m()\u001b[0m\n\u001b[0;32m----> 1\u001b[0;31m \u001b[0mresult\u001b[0m \u001b[0;34m=\u001b[0m \u001b[0mnp\u001b[0m\u001b[0;34m.\u001b[0m\u001b[0mconcatenate\u001b[0m\u001b[0;34m(\u001b[0m\u001b[0;34m(\u001b[0m\u001b[0mx\u001b[0m\u001b[0;34m,\u001b[0m \u001b[0mx3\u001b[0m\u001b[0;34m)\u001b[0m\u001b[0;34m)\u001b[0m\u001b[0;34m\u001b[0m\u001b[0;34m\u001b[0m\u001b[0m\n\u001b[0m\u001b[1;32m      2\u001b[0m \u001b[0mprint\u001b[0m\u001b[0;34m(\u001b[0m\u001b[0;34m\"Concatenation result:\\n\"\u001b[0m\u001b[0;34m,\u001b[0m \u001b[0mresult\u001b[0m\u001b[0;34m)\u001b[0m\u001b[0;34m\u001b[0m\u001b[0;34m\u001b[0m\u001b[0m\n",
            "\u001b[0;31mValueError\u001b[0m: all the input arrays must have same number of dimensions, but the array at index 0 has 2 dimension(s) and the array at index 1 has 1 dimension(s)"
          ]
        }
      ]
    },
    {
      "cell_type": "markdown",
      "source": [
        "x and x3 have different dimension\n"
      ],
      "metadata": {
        "id": "k1l3IxNE2Cd9"
      }
    },
    {
      "cell_type": "code",
      "source": [
        "\n",
        "A1=np.array([[3,4],[7,8]])\n",
        "B1=np.array([[5,3],[2,1]])\n",
        "A_inverse=np.linalg.inv(A1)\n",
        "result=np.dot(A1,A_inverse)\n",
        "identity_matrix=np.eye(2)\n",
        "print(\"Matrix A1:\\n\", A1)\n",
        "print(\"Inverse of A1 (A^-1):\\n\", A_inverse)\n",
        "print(\"Product of A1 and A^-1 (A.A^-1):\\n\", result)\n",
        "print(\"Identity Matrix:\\n\", identity_matrix)\n",
        "y=np.allclose(result,identity_matrix)\n",
        "print(\"Is A.A^-1 equal to identity matrix?->\",y)\n"
      ],
      "metadata": {
        "colab": {
          "base_uri": "https://localhost:8080/"
        },
        "id": "yfW4NCju2DO9",
        "outputId": "9322ca70-6bc2-487e-c1a7-a8fe50b81b04"
      },
      "execution_count": 38,
      "outputs": [
        {
          "output_type": "stream",
          "name": "stdout",
          "text": [
            "Matrix A1:\n",
            " [[3 4]\n",
            " [7 8]]\n",
            "Inverse of A1 (A^-1):\n",
            " [[-2.    1.  ]\n",
            " [ 1.75 -0.75]]\n",
            "Product of A1 and A^-1 (A.A^-1):\n",
            " [[1.00000000e+00 0.00000000e+00]\n",
            " [1.77635684e-15 1.00000000e+00]]\n",
            "Identity Matrix:\n",
            " [[1. 0.]\n",
            " [0. 1.]]\n",
            "Is A.A^-1 equal to identity matrix?-> True\n"
          ]
        }
      ]
    },
    {
      "cell_type": "code",
      "source": [
        "A1B1 = np.dot(A1, B1)\n",
        "B1A1 = np.dot(B1, A1)\n",
        "print(\"A1B1 (A1 * B1):\\n\", A1B1)\n",
        "print(\"B1A1 (B1 * A1):\\n\", B1A1)\n",
        "are_equal=np.array_equal(A1B1,B1A1)\n",
        "print(\" Is A1B1 = B1A1? \",are_equal)"
      ],
      "metadata": {
        "colab": {
          "base_uri": "https://localhost:8080/"
        },
        "id": "U4WtFsk92YpI",
        "outputId": "0e6f998e-631b-4a89-c226-27f5bf8ece5f"
      },
      "execution_count": 39,
      "outputs": [
        {
          "output_type": "stream",
          "name": "stdout",
          "text": [
            "A1B1 (A1 * B1):\n",
            " [[23 13]\n",
            " [51 29]]\n",
            "B1A1 (B1 * A1):\n",
            " [[36 44]\n",
            " [13 16]]\n",
            " Is A1B1 = B1A1?  False\n"
          ]
        }
      ]
    },
    {
      "cell_type": "code",
      "source": [
        "A1 = np.array([[1, 2], [3, 4]])\n",
        "B1 = np.array([[5, 6], [7, 8]])\n",
        "AB=np.dot(A1,B1)\n",
        "AB_T=AB.T\n",
        "B_T=B1.T\n",
        "A_T=A1.T\n",
        "BT_AT=np.dot(B_T,A_T)\n",
        "print(\"AB:\\n\", AB)\n",
        "print(\"(AB)^T:\\n\", AB_T)\n",
        "print(\"B^T:\\n\", B_T)\n",
        "print(\"A^T:\\n\", A_T)\n",
        "print(\"B^T * A^T:\\n\", BT_AT)\n",
        "is_equal=np.array_equal(AB_T,BT_AT)\n",
        "print(\"Is (AB)^T equal to B^T * A^T? \", is_equal)"
      ],
      "metadata": {
        "colab": {
          "base_uri": "https://localhost:8080/"
        },
        "id": "MRCXvEJd3KRd",
        "outputId": "c7d7ca5f-d755-4608-84b4-ef026e912f0d"
      },
      "execution_count": 40,
      "outputs": [
        {
          "output_type": "stream",
          "name": "stdout",
          "text": [
            "AB:\n",
            " [[19 22]\n",
            " [43 50]]\n",
            "(AB)^T:\n",
            " [[19 43]\n",
            " [22 50]]\n",
            "B^T:\n",
            " [[5 7]\n",
            " [6 8]]\n",
            "A^T:\n",
            " [[1 3]\n",
            " [2 4]]\n",
            "B^T * A^T:\n",
            " [[19 43]\n",
            " [22 50]]\n",
            "Is (AB)^T equal to B^T * A^T?  True\n"
          ]
        }
      ]
    },
    {
      "cell_type": "code",
      "source": [
        "\n",
        "A1=np.array([[2,-3,1], [1,-1,2], [3,1,-1]])\n",
        "B1=np.array([-1,-3,9])\n",
        "A_inverse=np.linalg.inv(A1)\n",
        "x=np.dot(A_inverse,B1)\n",
        "print( A1)\n",
        "print( B1)\n",
        "print( A_inverse)\n",
        "print( x)"
      ],
      "metadata": {
        "colab": {
          "base_uri": "https://localhost:8080/"
        },
        "id": "Gdyv8p8v3N_k",
        "outputId": "b441606b-cba1-4253-d472-3878046a858d"
      },
      "execution_count": 41,
      "outputs": [
        {
          "output_type": "stream",
          "name": "stdout",
          "text": [
            "[[ 2 -3  1]\n",
            " [ 1 -1  2]\n",
            " [ 3  1 -1]]\n",
            "[-1 -3  9]\n",
            "[[ 0.05263158  0.10526316  0.26315789]\n",
            " [-0.36842105  0.26315789  0.15789474]\n",
            " [-0.21052632  0.57894737 -0.05263158]]\n",
            "[ 2.  1. -2.]\n"
          ]
        }
      ]
    },
    {
      "cell_type": "code",
      "source": [
        "\n",
        "import time\n",
        "l3=list(range(1,1000001))\n",
        "l4=list(range(1,1000001))\n",
        "start_time= time.time()\n",
        "result_list=[a+b for a, b in zip(l3,l4)]\n",
        "python_time=time.time()-start_time\n",
        "print(\" Python lists time:\", python_time, \"seconds\")\n",
        "#numpy arrays:\n",
        "a3=np.arange(1,1000001)\n",
        "a4=np.arange(1,1000001)\n",
        "\n",
        "start_time=time.time()\n",
        "result_array=a3+a4\n",
        "numpy_time=time.time()-start_time\n",
        "print(\" NumPy arrays time:\", numpy_time, \"seconds\")\n",
        "\n"
      ],
      "metadata": {
        "colab": {
          "base_uri": "https://localhost:8080/"
        },
        "id": "qYdklVzI3hVR",
        "outputId": "5f92573e-a0f9-4216-8560-d78479e4baad"
      },
      "execution_count": 43,
      "outputs": [
        {
          "output_type": "stream",
          "name": "stdout",
          "text": [
            " Python lists time: 0.09642195701599121 seconds\n",
            " NumPy arrays time: 0.006551980972290039 seconds\n"
          ]
        }
      ]
    },
    {
      "cell_type": "code",
      "source": [
        "\n",
        "start_time=time.time()\n",
        "result_list=[a*b for a,b in zip(l3,l4)]\n",
        "python_time=time.time()-start_time\n",
        "print(\"multiplication using Python lists time:\", python_time, \"seconds\")\n",
        "\n",
        "start_time = time.time()\n",
        "result_array = a3 * a4\n",
        "numpy_time = time.time() - start_time\n",
        "print(\" multiplication using NumPy arrays:\", numpy_time, \"seconds\")\n"
      ],
      "metadata": {
        "colab": {
          "base_uri": "https://localhost:8080/"
        },
        "id": "htciiL9N35XW",
        "outputId": "594ee4b3-90d8-49b8-d99b-63dde9c14aa0"
      },
      "execution_count": 44,
      "outputs": [
        {
          "output_type": "stream",
          "name": "stdout",
          "text": [
            "multiplication using Python lists time: 0.23655915260314941 seconds\n",
            " multiplication using NumPy arrays: 0.006798744201660156 seconds\n"
          ]
        }
      ]
    },
    {
      "cell_type": "code",
      "source": [
        "\n",
        "\n",
        "\n",
        "start_time = time.time()\n",
        "dot_product_list = sum(a * b for a, b in zip(l3, l4))\n",
        "python_time = time.time() - start_time\n",
        "print( python_time, \"seconds\")\n",
        "\n",
        "\n",
        "\n",
        "start_time = time.time()\n",
        "dot_product_numpy = np.dot(a3, a4)\n",
        "numpy_time = time.time() - start_time\n",
        "print( numpy_time, \"seconds\")"
      ],
      "metadata": {
        "colab": {
          "base_uri": "https://localhost:8080/"
        },
        "id": "-0G1WxCK4T7n",
        "outputId": "8a7b7106-0b34-4464-d80c-7f7b3ce9fbfd"
      },
      "execution_count": 48,
      "outputs": [
        {
          "output_type": "stream",
          "name": "stdout",
          "text": [
            "0.11213231086730957 seconds\n",
            "0.002195596694946289 seconds\n"
          ]
        }
      ]
    },
    {
      "cell_type": "code",
      "source": [],
      "metadata": {
        "id": "ooegUGD75NEW"
      },
      "execution_count": null,
      "outputs": []
    },
    {
      "cell_type": "code",
      "source": [
        "import time\n",
        "import numpy as np\n",
        "\n",
        "# Python lists\n",
        "m3 = [[i for i in range(100)] for j in range(100)]\n",
        "m4 = [[i for i in range(100)] for j in range(100)]\n",
        "\n",
        "start_time = time.time()\n",
        "result_matrix = [[sum(m3[i][k] * m4[k][j] for k in range(100)) for j in range(100)] for i in range(100)]\n",
        "python_time = time.time() - start_time\n",
        "print(\" Python lists time:\", python_time, \"seconds\")\n",
        "\n",
        "# Matrix multiplication using NumPy\n",
        "m3_np = np.random.rand(100, 100)\n",
        "m4_np = np.random.rand(100, 100)\n",
        "\n",
        "start_time = time.time()\n",
        "result_matrix_np = np.dot(m3_np, m4_np)\n",
        "numpy_time = time.time() - start_time\n",
        "print(\"MNumPy arrays time:\", numpy_time, \"seconds\")\n"
      ],
      "metadata": {
        "colab": {
          "base_uri": "https://localhost:8080/"
        },
        "id": "pkBMBXoD56mQ",
        "outputId": "677c3326-b4a8-4b69-d6ec-3e1a1fecd93c"
      },
      "execution_count": 49,
      "outputs": [
        {
          "output_type": "stream",
          "name": "stdout",
          "text": [
            "Matrix multiplication using Python lists time: 0.40896129608154297 seconds\n",
            "Matrix multiplication using NumPy arrays time: 0.0063970088958740234 seconds\n"
          ]
        }
      ]
    },
    {
      "cell_type": "code",
      "source": [],
      "metadata": {
        "id": "lCweYnVn57Ej"
      },
      "execution_count": null,
      "outputs": []
    }
  ]
}